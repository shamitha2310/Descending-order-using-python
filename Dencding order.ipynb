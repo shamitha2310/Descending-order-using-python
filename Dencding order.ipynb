{
 "cells": [
  {
   "cell_type": "code",
   "execution_count": 3,
   "metadata": {},
   "outputs": [],
   "source": [
    "L1=[16,9,5,20,19,3]\n",
    "L2=[]\n",
    "def findmaxi(list):\n",
    "    maxvalue=list[0]\n",
    "    for _ in list:\n",
    "     if _>=maxvalue:\n",
    "        maxvalue=_\n",
    "    L1.remove(maxvalue)\n",
    "    L2.append(maxvalue)\n",
    "for _ in range(len(L1)):\n",
    "   findmaxi(L1)\n",
    "      "
   ]
  },
  {
   "cell_type": "code",
   "execution_count": 4,
   "metadata": {},
   "outputs": [
    {
     "data": {
      "text/plain": [
       "[20, 19, 16, 9, 5, 3]"
      ]
     },
     "execution_count": 4,
     "metadata": {},
     "output_type": "execute_result"
    }
   ],
   "source": [
    "L2 "
   ]
  }
 ],
 "metadata": {
  "kernelspec": {
   "display_name": "Python 3",
   "language": "python",
   "name": "python3"
  },
  "language_info": {
   "codemirror_mode": {
    "name": "ipython",
    "version": 3
   },
   "file_extension": ".py",
   "mimetype": "text/x-python",
   "name": "python",
   "nbconvert_exporter": "python",
   "pygments_lexer": "ipython3",
   "version": "3.11.9"
  }
 },
 "nbformat": 4,
 "nbformat_minor": 2
}
